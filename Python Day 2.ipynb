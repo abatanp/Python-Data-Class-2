{
 "cells": [
  {
   "cell_type": "code",
   "execution_count": 19,
   "id": "152eee4a",
   "metadata": {},
   "outputs": [],
   "source": [
    "def summation( val1=3 , val2=5 ):\n",
    "    \n",
    "    total_val = val1 + val2\n",
    "    \n",
    "    return total_val"
   ]
  },
  {
   "cell_type": "code",
   "execution_count": 20,
   "id": "5eece902",
   "metadata": {},
   "outputs": [],
   "source": [
    "summation = summation(9,8)"
   ]
  },
  {
   "cell_type": "code",
   "execution_count": 21,
   "id": "9151226c",
   "metadata": {},
   "outputs": [
    {
     "data": {
      "text/plain": [
       "17"
      ]
     },
     "execution_count": 21,
     "metadata": {},
     "output_type": "execute_result"
    }
   ],
   "source": [
    "summation"
   ]
  },
  {
   "cell_type": "markdown",
   "id": "f205d2d3",
   "metadata": {},
   "source": [
    "### Data Types\n",
    "\n",
    "Integars\n",
    "int, or integar, is a whole number or positive, without decimals, of unlimited lenght"
   ]
  },
  {
   "cell_type": "code",
   "execution_count": 23,
   "id": "979a9dac",
   "metadata": {},
   "outputs": [],
   "source": [
    "no_of_child = 2"
   ]
  },
  {
   "cell_type": "code",
   "execution_count": 24,
   "id": "1b1f7241",
   "metadata": {
    "scrolled": true
   },
   "outputs": [
    {
     "data": {
      "text/plain": [
       "int"
      ]
     },
     "execution_count": 24,
     "metadata": {},
     "output_type": "execute_result"
    }
   ],
   "source": [
    "type(no_of_child)"
   ]
  },
  {
   "cell_type": "code",
   "execution_count": 26,
   "id": "45845e5a",
   "metadata": {
    "collapsed": true
   },
   "outputs": [
    {
     "data": {
      "text/plain": [
       "['__abs__',\n",
       " '__add__',\n",
       " '__and__',\n",
       " '__bool__',\n",
       " '__ceil__',\n",
       " '__class__',\n",
       " '__delattr__',\n",
       " '__dir__',\n",
       " '__divmod__',\n",
       " '__doc__',\n",
       " '__eq__',\n",
       " '__float__',\n",
       " '__floor__',\n",
       " '__floordiv__',\n",
       " '__format__',\n",
       " '__ge__',\n",
       " '__getattribute__',\n",
       " '__getnewargs__',\n",
       " '__gt__',\n",
       " '__hash__',\n",
       " '__index__',\n",
       " '__init__',\n",
       " '__init_subclass__',\n",
       " '__int__',\n",
       " '__invert__',\n",
       " '__le__',\n",
       " '__lshift__',\n",
       " '__lt__',\n",
       " '__mod__',\n",
       " '__mul__',\n",
       " '__ne__',\n",
       " '__neg__',\n",
       " '__new__',\n",
       " '__or__',\n",
       " '__pos__',\n",
       " '__pow__',\n",
       " '__radd__',\n",
       " '__rand__',\n",
       " '__rdivmod__',\n",
       " '__reduce__',\n",
       " '__reduce_ex__',\n",
       " '__repr__',\n",
       " '__rfloordiv__',\n",
       " '__rlshift__',\n",
       " '__rmod__',\n",
       " '__rmul__',\n",
       " '__ror__',\n",
       " '__round__',\n",
       " '__rpow__',\n",
       " '__rrshift__',\n",
       " '__rshift__',\n",
       " '__rsub__',\n",
       " '__rtruediv__',\n",
       " '__rxor__',\n",
       " '__setattr__',\n",
       " '__sizeof__',\n",
       " '__str__',\n",
       " '__sub__',\n",
       " '__subclasshook__',\n",
       " '__truediv__',\n",
       " '__trunc__',\n",
       " '__xor__',\n",
       " 'as_integer_ratio',\n",
       " 'bit_length',\n",
       " 'conjugate',\n",
       " 'denominator',\n",
       " 'from_bytes',\n",
       " 'imag',\n",
       " 'numerator',\n",
       " 'real',\n",
       " 'to_bytes']"
      ]
     },
     "execution_count": 26,
     "metadata": {},
     "output_type": "execute_result"
    }
   ],
   "source": [
    "dir(no_of_child)"
   ]
  },
  {
   "cell_type": "code",
   "execution_count": 27,
   "id": "8b195bd0",
   "metadata": {
    "collapsed": true
   },
   "outputs": [
    {
     "name": "stdout",
     "output_type": "stream",
     "text": [
      "Help on int object:\n",
      "\n",
      "class int(object)\n",
      " |  int([x]) -> integer\n",
      " |  int(x, base=10) -> integer\n",
      " |  \n",
      " |  Convert a number or string to an integer, or return 0 if no arguments\n",
      " |  are given.  If x is a number, return x.__int__().  For floating point\n",
      " |  numbers, this truncates towards zero.\n",
      " |  \n",
      " |  If x is not a number or if base is given, then x must be a string,\n",
      " |  bytes, or bytearray instance representing an integer literal in the\n",
      " |  given base.  The literal can be preceded by '+' or '-' and be surrounded\n",
      " |  by whitespace.  The base defaults to 10.  Valid bases are 0 and 2-36.\n",
      " |  Base 0 means to interpret the base from the string as an integer literal.\n",
      " |  >>> int('0b100', base=0)\n",
      " |  4\n",
      " |  \n",
      " |  Built-in subclasses:\n",
      " |      bool\n",
      " |  \n",
      " |  Methods defined here:\n",
      " |  \n",
      " |  __abs__(self, /)\n",
      " |      abs(self)\n",
      " |  \n",
      " |  __add__(self, value, /)\n",
      " |      Return self+value.\n",
      " |  \n",
      " |  __and__(self, value, /)\n",
      " |      Return self&value.\n",
      " |  \n",
      " |  __bool__(self, /)\n",
      " |      True if self else False\n",
      " |  \n",
      " |  __ceil__(...)\n",
      " |      Ceiling of an Integral returns itself.\n",
      " |  \n",
      " |  __divmod__(self, value, /)\n",
      " |      Return divmod(self, value).\n",
      " |  \n",
      " |  __eq__(self, value, /)\n",
      " |      Return self==value.\n",
      " |  \n",
      " |  __float__(self, /)\n",
      " |      float(self)\n",
      " |  \n",
      " |  __floor__(...)\n",
      " |      Flooring an Integral returns itself.\n",
      " |  \n",
      " |  __floordiv__(self, value, /)\n",
      " |      Return self//value.\n",
      " |  \n",
      " |  __format__(self, format_spec, /)\n",
      " |      Default object formatter.\n",
      " |  \n",
      " |  __ge__(self, value, /)\n",
      " |      Return self>=value.\n",
      " |  \n",
      " |  __getattribute__(self, name, /)\n",
      " |      Return getattr(self, name).\n",
      " |  \n",
      " |  __getnewargs__(self, /)\n",
      " |  \n",
      " |  __gt__(self, value, /)\n",
      " |      Return self>value.\n",
      " |  \n",
      " |  __hash__(self, /)\n",
      " |      Return hash(self).\n",
      " |  \n",
      " |  __index__(self, /)\n",
      " |      Return self converted to an integer, if self is suitable for use as an index into a list.\n",
      " |  \n",
      " |  __int__(self, /)\n",
      " |      int(self)\n",
      " |  \n",
      " |  __invert__(self, /)\n",
      " |      ~self\n",
      " |  \n",
      " |  __le__(self, value, /)\n",
      " |      Return self<=value.\n",
      " |  \n",
      " |  __lshift__(self, value, /)\n",
      " |      Return self<<value.\n",
      " |  \n",
      " |  __lt__(self, value, /)\n",
      " |      Return self<value.\n",
      " |  \n",
      " |  __mod__(self, value, /)\n",
      " |      Return self%value.\n",
      " |  \n",
      " |  __mul__(self, value, /)\n",
      " |      Return self*value.\n",
      " |  \n",
      " |  __ne__(self, value, /)\n",
      " |      Return self!=value.\n",
      " |  \n",
      " |  __neg__(self, /)\n",
      " |      -self\n",
      " |  \n",
      " |  __or__(self, value, /)\n",
      " |      Return self|value.\n",
      " |  \n",
      " |  __pos__(self, /)\n",
      " |      +self\n",
      " |  \n",
      " |  __pow__(self, value, mod=None, /)\n",
      " |      Return pow(self, value, mod).\n",
      " |  \n",
      " |  __radd__(self, value, /)\n",
      " |      Return value+self.\n",
      " |  \n",
      " |  __rand__(self, value, /)\n",
      " |      Return value&self.\n",
      " |  \n",
      " |  __rdivmod__(self, value, /)\n",
      " |      Return divmod(value, self).\n",
      " |  \n",
      " |  __repr__(self, /)\n",
      " |      Return repr(self).\n",
      " |  \n",
      " |  __rfloordiv__(self, value, /)\n",
      " |      Return value//self.\n",
      " |  \n",
      " |  __rlshift__(self, value, /)\n",
      " |      Return value<<self.\n",
      " |  \n",
      " |  __rmod__(self, value, /)\n",
      " |      Return value%self.\n",
      " |  \n",
      " |  __rmul__(self, value, /)\n",
      " |      Return value*self.\n",
      " |  \n",
      " |  __ror__(self, value, /)\n",
      " |      Return value|self.\n",
      " |  \n",
      " |  __round__(...)\n",
      " |      Rounding an Integral returns itself.\n",
      " |      Rounding with an ndigits argument also returns an integer.\n",
      " |  \n",
      " |  __rpow__(self, value, mod=None, /)\n",
      " |      Return pow(value, self, mod).\n",
      " |  \n",
      " |  __rrshift__(self, value, /)\n",
      " |      Return value>>self.\n",
      " |  \n",
      " |  __rshift__(self, value, /)\n",
      " |      Return self>>value.\n",
      " |  \n",
      " |  __rsub__(self, value, /)\n",
      " |      Return value-self.\n",
      " |  \n",
      " |  __rtruediv__(self, value, /)\n",
      " |      Return value/self.\n",
      " |  \n",
      " |  __rxor__(self, value, /)\n",
      " |      Return value^self.\n",
      " |  \n",
      " |  __sizeof__(self, /)\n",
      " |      Returns size in memory, in bytes.\n",
      " |  \n",
      " |  __sub__(self, value, /)\n",
      " |      Return self-value.\n",
      " |  \n",
      " |  __truediv__(self, value, /)\n",
      " |      Return self/value.\n",
      " |  \n",
      " |  __trunc__(...)\n",
      " |      Truncating an Integral returns itself.\n",
      " |  \n",
      " |  __xor__(self, value, /)\n",
      " |      Return self^value.\n",
      " |  \n",
      " |  as_integer_ratio(self, /)\n",
      " |      Return integer ratio.\n",
      " |      \n",
      " |      Return a pair of integers, whose ratio is exactly equal to the original int\n",
      " |      and with a positive denominator.\n",
      " |      \n",
      " |      >>> (10).as_integer_ratio()\n",
      " |      (10, 1)\n",
      " |      >>> (-10).as_integer_ratio()\n",
      " |      (-10, 1)\n",
      " |      >>> (0).as_integer_ratio()\n",
      " |      (0, 1)\n",
      " |  \n",
      " |  bit_length(self, /)\n",
      " |      Number of bits necessary to represent self in binary.\n",
      " |      \n",
      " |      >>> bin(37)\n",
      " |      '0b100101'\n",
      " |      >>> (37).bit_length()\n",
      " |      6\n",
      " |  \n",
      " |  conjugate(...)\n",
      " |      Returns self, the complex conjugate of any int.\n",
      " |  \n",
      " |  to_bytes(self, /, length, byteorder, *, signed=False)\n",
      " |      Return an array of bytes representing an integer.\n",
      " |      \n",
      " |      length\n",
      " |        Length of bytes object to use.  An OverflowError is raised if the\n",
      " |        integer is not representable with the given number of bytes.\n",
      " |      byteorder\n",
      " |        The byte order used to represent the integer.  If byteorder is 'big',\n",
      " |        the most significant byte is at the beginning of the byte array.  If\n",
      " |        byteorder is 'little', the most significant byte is at the end of the\n",
      " |        byte array.  To request the native byte order of the host system, use\n",
      " |        `sys.byteorder' as the byte order value.\n",
      " |      signed\n",
      " |        Determines whether two's complement is used to represent the integer.\n",
      " |        If signed is False and a negative integer is given, an OverflowError\n",
      " |        is raised.\n",
      " |  \n",
      " |  ----------------------------------------------------------------------\n",
      " |  Class methods defined here:\n",
      " |  \n",
      " |  from_bytes(bytes, byteorder, *, signed=False) from builtins.type\n",
      " |      Return the integer represented by the given array of bytes.\n",
      " |      \n",
      " |      bytes\n",
      " |        Holds the array of bytes to convert.  The argument must either\n",
      " |        support the buffer protocol or be an iterable object producing bytes.\n",
      " |        Bytes and bytearray are examples of built-in objects that support the\n",
      " |        buffer protocol.\n",
      " |      byteorder\n",
      " |        The byte order used to represent the integer.  If byteorder is 'big',\n",
      " |        the most significant byte is at the beginning of the byte array.  If\n",
      " |        byteorder is 'little', the most significant byte is at the end of the\n",
      " |        byte array.  To request the native byte order of the host system, use\n",
      " |        `sys.byteorder' as the byte order value.\n",
      " |      signed\n",
      " |        Indicates whether two's complement is used to represent the integer.\n",
      " |  \n",
      " |  ----------------------------------------------------------------------\n",
      " |  Static methods defined here:\n",
      " |  \n",
      " |  __new__(*args, **kwargs) from builtins.type\n",
      " |      Create and return a new object.  See help(type) for accurate signature.\n",
      " |  \n",
      " |  ----------------------------------------------------------------------\n",
      " |  Data descriptors defined here:\n",
      " |  \n",
      " |  denominator\n",
      " |      the denominator of a rational number in lowest terms\n",
      " |  \n",
      " |  imag\n",
      " |      the imaginary part of a complex number\n",
      " |  \n",
      " |  numerator\n",
      " |      the numerator of a rational number in lowest terms\n",
      " |  \n",
      " |  real\n",
      " |      the real part of a complex number\n",
      "\n"
     ]
    }
   ],
   "source": [
    "help(no_of_child) "
   ]
  },
  {
   "cell_type": "code",
   "execution_count": null,
   "id": "0de6abcb",
   "metadata": {},
   "outputs": [],
   "source": [
    "help"
   ]
  },
  {
   "cell_type": "code",
   "execution_count": 7,
   "id": "6010e46e",
   "metadata": {},
   "outputs": [
    {
     "data": {
      "text/plain": [
       "int"
      ]
     },
     "execution_count": 7,
     "metadata": {},
     "output_type": "execute_result"
    }
   ],
   "source": [
    "type(-2)"
   ]
  },
  {
   "cell_type": "code",
   "execution_count": 8,
   "id": "adc522b8",
   "metadata": {},
   "outputs": [
    {
     "data": {
      "text/plain": [
       "2"
      ]
     },
     "execution_count": 8,
     "metadata": {},
     "output_type": "execute_result"
    }
   ],
   "source": [
    "abs(-2)"
   ]
  },
  {
   "cell_type": "markdown",
   "id": "a902a34e",
   "metadata": {},
   "source": [
    "### Float is a decimal number, its cuts away decimals ad leaves the integar."
   ]
  },
  {
   "cell_type": "code",
   "execution_count": 28,
   "id": "2967fb2c",
   "metadata": {},
   "outputs": [
    {
     "data": {
      "text/plain": [
       "2.0"
      ]
     },
     "execution_count": 28,
     "metadata": {},
     "output_type": "execute_result"
    }
   ],
   "source": [
    "float(no_of_child)"
   ]
  },
  {
   "cell_type": "code",
   "execution_count": 10,
   "id": "79f6cd46",
   "metadata": {},
   "outputs": [
    {
     "data": {
      "text/plain": [
       "2"
      ]
     },
     "execution_count": 10,
     "metadata": {},
     "output_type": "execute_result"
    }
   ],
   "source": [
    "int(2.0)"
   ]
  },
  {
   "cell_type": "code",
   "execution_count": 1,
   "id": "512784b2",
   "metadata": {},
   "outputs": [
    {
     "data": {
      "text/plain": [
       "2"
      ]
     },
     "execution_count": 1,
     "metadata": {},
     "output_type": "execute_result"
    }
   ],
   "source": [
    "int(2.8)"
   ]
  },
  {
   "cell_type": "code",
   "execution_count": 2,
   "id": "112eb2b6",
   "metadata": {},
   "outputs": [
    {
     "data": {
      "text/plain": [
       "1.23"
      ]
     },
     "execution_count": 2,
     "metadata": {},
     "output_type": "execute_result"
    }
   ],
   "source": [
    "round(1.2342457, 2)"
   ]
  },
  {
   "cell_type": "code",
   "execution_count": 13,
   "id": "20066d1d",
   "metadata": {
    "scrolled": true
   },
   "outputs": [
    {
     "data": {
      "text/plain": [
       "4.0"
      ]
     },
     "execution_count": 13,
     "metadata": {},
     "output_type": "execute_result"
    }
   ],
   "source": [
    "round(3.9345673, 0)"
   ]
  },
  {
   "cell_type": "code",
   "execution_count": 14,
   "id": "e87392d2",
   "metadata": {},
   "outputs": [],
   "source": [
    "weight = 54.654"
   ]
  },
  {
   "cell_type": "code",
   "execution_count": 15,
   "id": "91894ac4",
   "metadata": {},
   "outputs": [
    {
     "data": {
      "text/plain": [
       "54.65"
      ]
     },
     "execution_count": 15,
     "metadata": {},
     "output_type": "execute_result"
    }
   ],
   "source": [
    "round(weight, 2)"
   ]
  },
  {
   "cell_type": "markdown",
   "id": "98f36f18",
   "metadata": {},
   "source": [
    "### List - This is an ordered sequence of items. It can take in different Data types. Integar, Float, Wakanda, and so on...\n",
    "List can be constructed in two ways. Either by using the list inbuilt function OR calling an empty square bracket and\n",
    "denoting it as list."
   ]
  },
  {
   "cell_type": "markdown",
   "id": "01ef6e15",
   "metadata": {},
   "source": [
    "### list methods\n",
    "dir(list)\n",
    "\n",
    "Removing items\n",
    "\n",
    "Remove an item from a list with .remove(), and put the item you would like to remove in parentheses.\n",
    "\n",
    "Adding items\n",
    "Add an item to a list with .append(), and put the item you would like to add in parentheses."
   ]
  },
  {
   "cell_type": "code",
   "execution_count": 16,
   "id": "64e65364",
   "metadata": {
    "scrolled": true
   },
   "outputs": [
    {
     "data": {
      "text/plain": [
       "[]"
      ]
     },
     "execution_count": 16,
     "metadata": {},
     "output_type": "execute_result"
    }
   ],
   "source": [
    "list()"
   ]
  },
  {
   "cell_type": "code",
   "execution_count": 1,
   "id": "29717637",
   "metadata": {},
   "outputs": [],
   "source": [
    "class_list = []"
   ]
  },
  {
   "cell_type": "code",
   "execution_count": 2,
   "id": "e4e941f7",
   "metadata": {},
   "outputs": [],
   "source": [
    "class_list_2 = [2,4,7,1,10,'Damilola',2.3,True]"
   ]
  },
  {
   "cell_type": "code",
   "execution_count": 21,
   "id": "252e6c04",
   "metadata": {},
   "outputs": [
    {
     "data": {
      "text/plain": [
       "[2, 4, 7, 1, 10, 'Damilola', 2.3, True]"
      ]
     },
     "execution_count": 21,
     "metadata": {},
     "output_type": "execute_result"
    }
   ],
   "source": [
    "class_list_2"
   ]
  },
  {
   "cell_type": "code",
   "execution_count": 18,
   "id": "0d7453c5",
   "metadata": {},
   "outputs": [
    {
     "data": {
      "text/plain": [
       "[]"
      ]
     },
     "execution_count": 18,
     "metadata": {},
     "output_type": "execute_result"
    }
   ],
   "source": [
    "class_list"
   ]
  },
  {
   "cell_type": "code",
   "execution_count": 19,
   "id": "4ec907d8",
   "metadata": {
    "scrolled": true
   },
   "outputs": [
    {
     "data": {
      "text/plain": [
       "list"
      ]
     },
     "execution_count": 19,
     "metadata": {},
     "output_type": "execute_result"
    }
   ],
   "source": [
    "type(class_list)"
   ]
  },
  {
   "cell_type": "code",
   "execution_count": 20,
   "id": "7eb9d8cb",
   "metadata": {
    "collapsed": true
   },
   "outputs": [
    {
     "data": {
      "text/plain": [
       "['__add__',\n",
       " '__class__',\n",
       " '__class_getitem__',\n",
       " '__contains__',\n",
       " '__delattr__',\n",
       " '__delitem__',\n",
       " '__dir__',\n",
       " '__doc__',\n",
       " '__eq__',\n",
       " '__format__',\n",
       " '__ge__',\n",
       " '__getattribute__',\n",
       " '__getitem__',\n",
       " '__gt__',\n",
       " '__hash__',\n",
       " '__iadd__',\n",
       " '__imul__',\n",
       " '__init__',\n",
       " '__init_subclass__',\n",
       " '__iter__',\n",
       " '__le__',\n",
       " '__len__',\n",
       " '__lt__',\n",
       " '__mul__',\n",
       " '__ne__',\n",
       " '__new__',\n",
       " '__reduce__',\n",
       " '__reduce_ex__',\n",
       " '__repr__',\n",
       " '__reversed__',\n",
       " '__rmul__',\n",
       " '__setattr__',\n",
       " '__setitem__',\n",
       " '__sizeof__',\n",
       " '__str__',\n",
       " '__subclasshook__',\n",
       " 'append',\n",
       " 'clear',\n",
       " 'copy',\n",
       " 'count',\n",
       " 'extend',\n",
       " 'index',\n",
       " 'insert',\n",
       " 'pop',\n",
       " 'remove',\n",
       " 'reverse',\n",
       " 'sort']"
      ]
     },
     "execution_count": 20,
     "metadata": {},
     "output_type": "execute_result"
    }
   ],
   "source": [
    "dir(class_list)"
   ]
  },
  {
   "cell_type": "code",
   "execution_count": 6,
   "id": "7fcd8b34",
   "metadata": {
    "collapsed": true
   },
   "outputs": [
    {
     "name": "stdout",
     "output_type": "stream",
     "text": [
      "Help on list object:\n",
      "\n",
      "class list(object)\n",
      " |  list(iterable=(), /)\n",
      " |  \n",
      " |  Built-in mutable sequence.\n",
      " |  \n",
      " |  If no argument is given, the constructor creates a new empty list.\n",
      " |  The argument must be an iterable if specified.\n",
      " |  \n",
      " |  Methods defined here:\n",
      " |  \n",
      " |  __add__(self, value, /)\n",
      " |      Return self+value.\n",
      " |  \n",
      " |  __contains__(self, key, /)\n",
      " |      Return key in self.\n",
      " |  \n",
      " |  __delitem__(self, key, /)\n",
      " |      Delete self[key].\n",
      " |  \n",
      " |  __eq__(self, value, /)\n",
      " |      Return self==value.\n",
      " |  \n",
      " |  __ge__(self, value, /)\n",
      " |      Return self>=value.\n",
      " |  \n",
      " |  __getattribute__(self, name, /)\n",
      " |      Return getattr(self, name).\n",
      " |  \n",
      " |  __getitem__(...)\n",
      " |      x.__getitem__(y) <==> x[y]\n",
      " |  \n",
      " |  __gt__(self, value, /)\n",
      " |      Return self>value.\n",
      " |  \n",
      " |  __iadd__(self, value, /)\n",
      " |      Implement self+=value.\n",
      " |  \n",
      " |  __imul__(self, value, /)\n",
      " |      Implement self*=value.\n",
      " |  \n",
      " |  __init__(self, /, *args, **kwargs)\n",
      " |      Initialize self.  See help(type(self)) for accurate signature.\n",
      " |  \n",
      " |  __iter__(self, /)\n",
      " |      Implement iter(self).\n",
      " |  \n",
      " |  __le__(self, value, /)\n",
      " |      Return self<=value.\n",
      " |  \n",
      " |  __len__(self, /)\n",
      " |      Return len(self).\n",
      " |  \n",
      " |  __lt__(self, value, /)\n",
      " |      Return self<value.\n",
      " |  \n",
      " |  __mul__(self, value, /)\n",
      " |      Return self*value.\n",
      " |  \n",
      " |  __ne__(self, value, /)\n",
      " |      Return self!=value.\n",
      " |  \n",
      " |  __repr__(self, /)\n",
      " |      Return repr(self).\n",
      " |  \n",
      " |  __reversed__(self, /)\n",
      " |      Return a reverse iterator over the list.\n",
      " |  \n",
      " |  __rmul__(self, value, /)\n",
      " |      Return value*self.\n",
      " |  \n",
      " |  __setitem__(self, key, value, /)\n",
      " |      Set self[key] to value.\n",
      " |  \n",
      " |  __sizeof__(self, /)\n",
      " |      Return the size of the list in memory, in bytes.\n",
      " |  \n",
      " |  append(self, object, /)\n",
      " |      Append object to the end of the list.\n",
      " |  \n",
      " |  clear(self, /)\n",
      " |      Remove all items from list.\n",
      " |  \n",
      " |  copy(self, /)\n",
      " |      Return a shallow copy of the list.\n",
      " |  \n",
      " |  count(self, value, /)\n",
      " |      Return number of occurrences of value.\n",
      " |  \n",
      " |  extend(self, iterable, /)\n",
      " |      Extend list by appending elements from the iterable.\n",
      " |  \n",
      " |  index(self, value, start=0, stop=9223372036854775807, /)\n",
      " |      Return first index of value.\n",
      " |      \n",
      " |      Raises ValueError if the value is not present.\n",
      " |  \n",
      " |  insert(self, index, object, /)\n",
      " |      Insert object before index.\n",
      " |  \n",
      " |  pop(self, index=-1, /)\n",
      " |      Remove and return item at index (default last).\n",
      " |      \n",
      " |      Raises IndexError if list is empty or index is out of range.\n",
      " |  \n",
      " |  remove(self, value, /)\n",
      " |      Remove first occurrence of value.\n",
      " |      \n",
      " |      Raises ValueError if the value is not present.\n",
      " |  \n",
      " |  reverse(self, /)\n",
      " |      Reverse *IN PLACE*.\n",
      " |  \n",
      " |  sort(self, /, *, key=None, reverse=False)\n",
      " |      Sort the list in ascending order and return None.\n",
      " |      \n",
      " |      The sort is in-place (i.e. the list itself is modified) and stable (i.e. the\n",
      " |      order of two equal elements is maintained).\n",
      " |      \n",
      " |      If a key function is given, apply it once to each list item and sort them,\n",
      " |      ascending or descending, according to their function values.\n",
      " |      \n",
      " |      The reverse flag can be set to sort in descending order.\n",
      " |  \n",
      " |  ----------------------------------------------------------------------\n",
      " |  Class methods defined here:\n",
      " |  \n",
      " |  __class_getitem__(...) from builtins.type\n",
      " |      See PEP 585\n",
      " |  \n",
      " |  ----------------------------------------------------------------------\n",
      " |  Static methods defined here:\n",
      " |  \n",
      " |  __new__(*args, **kwargs) from builtins.type\n",
      " |      Create and return a new object.  See help(type) for accurate signature.\n",
      " |  \n",
      " |  ----------------------------------------------------------------------\n",
      " |  Data and other attributes defined here:\n",
      " |  \n",
      " |  __hash__ = None\n",
      "\n"
     ]
    }
   ],
   "source": [
    "help(class_list)"
   ]
  },
  {
   "cell_type": "code",
   "execution_count": 4,
   "id": "05c4bfef",
   "metadata": {},
   "outputs": [],
   "source": [
    "class_list.append(2)"
   ]
  },
  {
   "cell_type": "code",
   "execution_count": 5,
   "id": "7cde6c32",
   "metadata": {},
   "outputs": [],
   "source": [
    "class_list.append(4)"
   ]
  },
  {
   "cell_type": "code",
   "execution_count": 41,
   "id": "3fc95074",
   "metadata": {
    "scrolled": true
   },
   "outputs": [],
   "source": [
    "class_list.append(class_list_2)"
   ]
  },
  {
   "cell_type": "code",
   "execution_count": 6,
   "id": "3c45b4f5",
   "metadata": {
    "scrolled": true
   },
   "outputs": [
    {
     "data": {
      "text/plain": [
       "[2, 4]"
      ]
     },
     "execution_count": 6,
     "metadata": {},
     "output_type": "execute_result"
    }
   ],
   "source": [
    "class_list"
   ]
  },
  {
   "cell_type": "code",
   "execution_count": 12,
   "id": "db5935a4",
   "metadata": {
    "scrolled": false
   },
   "outputs": [
    {
     "data": {
      "text/plain": [
       "[2, 4, 7, 1, 10, 'Damilola', 2.3, True]"
      ]
     },
     "execution_count": 12,
     "metadata": {},
     "output_type": "execute_result"
    }
   ],
   "source": [
    "class_list_2"
   ]
  },
  {
   "cell_type": "code",
   "execution_count": 28,
   "id": "2a992aa4",
   "metadata": {},
   "outputs": [],
   "source": [
    "class_list.extend(class_list_2)"
   ]
  },
  {
   "cell_type": "code",
   "execution_count": 33,
   "id": "9aadc65b",
   "metadata": {},
   "outputs": [],
   "source": [
    "test = [23,54,12,96,8,6]"
   ]
  },
  {
   "cell_type": "code",
   "execution_count": 34,
   "id": "5341130d",
   "metadata": {},
   "outputs": [],
   "source": [
    "test.sort()"
   ]
  },
  {
   "cell_type": "code",
   "execution_count": 35,
   "id": "966d992e",
   "metadata": {},
   "outputs": [
    {
     "data": {
      "text/plain": [
       "[6, 8, 12, 23, 54, 96]"
      ]
     },
     "execution_count": 35,
     "metadata": {},
     "output_type": "execute_result"
    }
   ],
   "source": [
    "test"
   ]
  },
  {
   "cell_type": "markdown",
   "id": "31a5321f",
   "metadata": {},
   "source": [
    "# strings - Is a sequence of Unicode characters. In Python,\n",
    ".String is called str.\n",
    ".Strings are represented by using Double quotes or single quotes.\n",
    ".If the strings are multiple, then it can be denoted by the use of triple quotes \"\"\"\"\"\" or \"\"\n",
    "\n",
    "All the characters between the quotes are items of the string\n",
    "\n",
    "String methods\n",
    "# dir(str)\n",
    "Like list, the type str has lots of very useful methods"
   ]
  },
  {
   "cell_type": "code",
   "execution_count": 31,
   "id": "8f7e6f18",
   "metadata": {},
   "outputs": [
    {
     "data": {
      "text/plain": [
       "''"
      ]
     },
     "execution_count": 31,
     "metadata": {},
     "output_type": "execute_result"
    }
   ],
   "source": [
    "str()"
   ]
  },
  {
   "cell_type": "code",
   "execution_count": 33,
   "id": "54de80f2",
   "metadata": {},
   "outputs": [],
   "source": [
    "string_test = \"   \" or '    '"
   ]
  },
  {
   "cell_type": "code",
   "execution_count": 2,
   "id": "e2b7087d",
   "metadata": {},
   "outputs": [],
   "source": [
    "name = \"damilola\""
   ]
  },
  {
   "cell_type": "code",
   "execution_count": 3,
   "id": "f4eae0da",
   "metadata": {},
   "outputs": [
    {
     "data": {
      "text/plain": [
       "'Damilola'"
      ]
     },
     "execution_count": 3,
     "metadata": {},
     "output_type": "execute_result"
    }
   ],
   "source": [
    "name.capitalize()  "
   ]
  },
  {
   "cell_type": "code",
   "execution_count": 4,
   "id": "df1fd261",
   "metadata": {},
   "outputs": [
    {
     "data": {
      "text/plain": [
       "'DAMILOLA'"
      ]
     },
     "execution_count": 4,
     "metadata": {},
     "output_type": "execute_result"
    }
   ],
   "source": [
    "name.upper()"
   ]
  },
  {
   "cell_type": "code",
   "execution_count": 5,
   "id": "64b198bf",
   "metadata": {},
   "outputs": [
    {
     "data": {
      "text/plain": [
       "'damilola'"
      ]
     },
     "execution_count": 5,
     "metadata": {},
     "output_type": "execute_result"
    }
   ],
   "source": [
    "name.lower()"
   ]
  },
  {
   "cell_type": "code",
   "execution_count": 9,
   "id": "0ab0d75d",
   "metadata": {},
   "outputs": [],
   "source": [
    "comment = 'The sky is very blue'"
   ]
  },
  {
   "cell_type": "code",
   "execution_count": 11,
   "id": "9977715a",
   "metadata": {
    "scrolled": true
   },
   "outputs": [
    {
     "data": {
      "text/plain": [
       "'THE SKY IS VERY BLUE'"
      ]
     },
     "execution_count": 11,
     "metadata": {},
     "output_type": "execute_result"
    }
   ],
   "source": [
    "comment.upper()"
   ]
  },
  {
   "cell_type": "code",
   "execution_count": 6,
   "id": "666d14a6",
   "metadata": {},
   "outputs": [],
   "source": [
    "name = 'damilola'"
   ]
  },
  {
   "cell_type": "code",
   "execution_count": 7,
   "id": "13122a4d",
   "metadata": {
    "scrolled": true
   },
   "outputs": [
    {
     "data": {
      "text/plain": [
       "'Damilola'"
      ]
     },
     "execution_count": 7,
     "metadata": {},
     "output_type": "execute_result"
    }
   ],
   "source": [
    "name.capitalize()"
   ]
  },
  {
   "cell_type": "code",
   "execution_count": 10,
   "id": "785b98e3",
   "metadata": {},
   "outputs": [
    {
     "data": {
      "text/plain": [
       "['The', 'sky', 'is', 'very', 'blue']"
      ]
     },
     "execution_count": 10,
     "metadata": {},
     "output_type": "execute_result"
    }
   ],
   "source": [
    "comment.split()"
   ]
  },
  {
   "cell_type": "code",
   "execution_count": 9,
   "id": "de1719c9",
   "metadata": {},
   "outputs": [],
   "source": [
    "comment = 'The sky is very blue'"
   ]
  },
  {
   "cell_type": "code",
   "execution_count": 39,
   "id": "1685292c",
   "metadata": {},
   "outputs": [
    {
     "data": {
      "text/plain": [
       "['The', 'sky', 'is', 'very', 'blue']"
      ]
     },
     "execution_count": 39,
     "metadata": {},
     "output_type": "execute_result"
    }
   ],
   "source": [
    "comment.split(' ')"
   ]
  },
  {
   "cell_type": "markdown",
   "id": "a1f45af1",
   "metadata": {},
   "source": [
    "### Print Format"
   ]
  },
  {
   "cell_type": "code",
   "execution_count": 7,
   "id": "225d8c78",
   "metadata": {
    "scrolled": true
   },
   "outputs": [],
   "source": [
    "name = name.capitalize()"
   ]
  },
  {
   "cell_type": "code",
   "execution_count": 13,
   "id": "0557a049",
   "metadata": {
    "scrolled": true
   },
   "outputs": [
    {
     "data": {
      "text/plain": [
       "'Damilola'"
      ]
     },
     "execution_count": 13,
     "metadata": {},
     "output_type": "execute_result"
    }
   ],
   "source": [
    "name"
   ]
  },
  {
   "cell_type": "code",
   "execution_count": 14,
   "id": "97526f3e",
   "metadata": {},
   "outputs": [
    {
     "name": "stdout",
     "output_type": "stream",
     "text": [
      "the sky is very blue and i love it, my name is Damilola\n"
     ]
    }
   ],
   "source": [
    "# example 1\n",
    "\n",
    "print(f'the sky is very blue and i love it, my name is {name}')"
   ]
  },
  {
   "cell_type": "code",
   "execution_count": 19,
   "id": "38f09e97",
   "metadata": {},
   "outputs": [
    {
     "name": "stdout",
     "output_type": "stream",
     "text": [
      "the sky is very blue and i love it Damilola\n"
     ]
    }
   ],
   "source": [
    "# example 2\n",
    "\n",
    "print('the sky is very blue and i love it {}'.format(name))"
   ]
  },
  {
   "cell_type": "markdown",
   "id": "4224da29",
   "metadata": {},
   "source": [
    "### Place holder"
   ]
  },
  {
   "cell_type": "code",
   "execution_count": 25,
   "id": "726f15fa",
   "metadata": {
    "scrolled": false
   },
   "outputs": [
    {
     "name": "stdout",
     "output_type": "stream",
     "text": [
      "my name is Damilola and i am 20 years old\n"
     ]
    }
   ],
   "source": [
    "\n",
    "\n",
    "name = \"Damilola\"\n",
    "age = 20\n",
    "\n",
    "print(\"my name is %s and i am %s years old\" %(name, age))"
   ]
  },
  {
   "cell_type": "markdown",
   "id": "f1848076",
   "metadata": {
    "scrolled": true
   },
   "source": [
    "### Strings and sequences\n",
    "\n"
   ]
  },
  {
   "cell_type": "code",
   "execution_count": 20,
   "id": "3c3fb3d9",
   "metadata": {},
   "outputs": [],
   "source": [
    "test = comment.split(' ')"
   ]
  },
  {
   "cell_type": "code",
   "execution_count": 21,
   "id": "43666a4a",
   "metadata": {},
   "outputs": [
    {
     "data": {
      "text/plain": [
       "['The', 'sky', 'is', 'very', 'blue']"
      ]
     },
     "execution_count": 21,
     "metadata": {},
     "output_type": "execute_result"
    }
   ],
   "source": [
    "test"
   ]
  },
  {
   "cell_type": "code",
   "execution_count": 50,
   "id": "88c642a1",
   "metadata": {},
   "outputs": [
    {
     "data": {
      "text/plain": [
       "'The sky is very blue'"
      ]
     },
     "execution_count": 50,
     "metadata": {},
     "output_type": "execute_result"
    }
   ],
   "source": [
    "\" \".join(test)"
   ]
  },
  {
   "cell_type": "markdown",
   "id": "b325633b",
   "metadata": {},
   "source": [
    "### Indexing and Slicing\n",
    "\n",
    "This goes hand in hand with list & string\n",
    "\n",
    "Python starts indexing from 0....... \n",
    "You can also use a negative index which always start from -1"
   ]
  },
  {
   "cell_type": "code",
   "execution_count": null,
   "id": "d671ad75",
   "metadata": {},
   "outputs": [],
   "source": [
    "[2,3,4,5,68,64,9]\n",
    " 0 1 2 3 4  5  6"
   ]
  },
  {
   "cell_type": "code",
   "execution_count": null,
   "id": "d22989bf",
   "metadata": {},
   "outputs": [],
   "source": [
    "[2, 3, 4, 5, 68, 64, 9]\n",
    "-7 -6 -5 -4 -3  -2  -1"
   ]
  },
  {
   "cell_type": "code",
   "execution_count": 12,
   "id": "fd6dd326",
   "metadata": {},
   "outputs": [],
   "source": [
    "test = comment.split(' ')"
   ]
  },
  {
   "cell_type": "code",
   "execution_count": 60,
   "id": "75c3a605",
   "metadata": {
    "scrolled": true
   },
   "outputs": [
    {
     "data": {
      "text/plain": [
       "'sky'"
      ]
     },
     "execution_count": 60,
     "metadata": {},
     "output_type": "execute_result"
    }
   ],
   "source": [
    "test[1]"
   ]
  },
  {
   "cell_type": "code",
   "execution_count": 13,
   "id": "d6753494",
   "metadata": {},
   "outputs": [
    {
     "data": {
      "text/plain": [
       "['The', 'sky', 'is', 'very', 'blue']"
      ]
     },
     "execution_count": 13,
     "metadata": {},
     "output_type": "execute_result"
    }
   ],
   "source": [
    "test"
   ]
  },
  {
   "cell_type": "code",
   "execution_count": 14,
   "id": "c63dc9d1",
   "metadata": {
    "scrolled": true
   },
   "outputs": [
    {
     "data": {
      "text/plain": [
       "('very', 'very')"
      ]
     },
     "execution_count": 14,
     "metadata": {},
     "output_type": "execute_result"
    }
   ],
   "source": [
    "test[3], test[-2]"
   ]
  },
  {
   "cell_type": "code",
   "execution_count": 15,
   "id": "13b85e54",
   "metadata": {},
   "outputs": [
    {
     "data": {
      "text/plain": [
       "['The', 'sky', 'is', 'very', 'blue']"
      ]
     },
     "execution_count": 15,
     "metadata": {},
     "output_type": "execute_result"
    }
   ],
   "source": [
    "test"
   ]
  },
  {
   "cell_type": "code",
   "execution_count": 32,
   "id": "c54d1681",
   "metadata": {
    "scrolled": false
   },
   "outputs": [
    {
     "data": {
      "text/plain": [
       "'Damilola'"
      ]
     },
     "execution_count": 32,
     "metadata": {},
     "output_type": "execute_result"
    }
   ],
   "source": [
    "name"
   ]
  },
  {
   "cell_type": "code",
   "execution_count": 34,
   "id": "4b66a322",
   "metadata": {},
   "outputs": [
    {
     "data": {
      "text/plain": [
       "'a'"
      ]
     },
     "execution_count": 34,
     "metadata": {},
     "output_type": "execute_result"
    }
   ],
   "source": [
    "name[7]"
   ]
  },
  {
   "cell_type": "markdown",
   "id": "37fae959",
   "metadata": {},
   "source": [
    "### Slicing"
   ]
  },
  {
   "cell_type": "code",
   "execution_count": 38,
   "id": "36aa1de4",
   "metadata": {},
   "outputs": [
    {
     "data": {
      "text/plain": [
       "['The', 'sky', 'is', 'very', 'blue']"
      ]
     },
     "execution_count": 38,
     "metadata": {},
     "output_type": "execute_result"
    }
   ],
   "source": [
    "test[0:5]"
   ]
  },
  {
   "cell_type": "code",
   "execution_count": 40,
   "id": "a813aedd",
   "metadata": {},
   "outputs": [
    {
     "data": {
      "text/plain": [
       "['very', 'blue']"
      ]
     },
     "execution_count": 40,
     "metadata": {},
     "output_type": "execute_result"
    }
   ],
   "source": [
    "test[-2:]"
   ]
  },
  {
   "cell_type": "code",
   "execution_count": 41,
   "id": "9455381a",
   "metadata": {},
   "outputs": [
    {
     "data": {
      "text/plain": [
       "['The', 'sky', 'is', 'very', 'blue']"
      ]
     },
     "execution_count": 41,
     "metadata": {},
     "output_type": "execute_result"
    }
   ],
   "source": [
    "test"
   ]
  },
  {
   "cell_type": "code",
   "execution_count": 42,
   "id": "5bbfff02",
   "metadata": {},
   "outputs": [],
   "source": [
    "sentence = 'slicing is used to obtain a sequence of elements'"
   ]
  },
  {
   "cell_type": "code",
   "execution_count": 45,
   "id": "fa83329f",
   "metadata": {},
   "outputs": [
    {
     "data": {
      "text/plain": [
       "['slicing', 'is', 'used', 'to', 'obtain', 'a', 'sequence', 'of', 'elements']"
      ]
     },
     "execution_count": 45,
     "metadata": {},
     "output_type": "execute_result"
    }
   ],
   "source": [
    "sentence.split()"
   ]
  },
  {
   "cell_type": "code",
   "execution_count": 46,
   "id": "5fa96fb0",
   "metadata": {},
   "outputs": [],
   "source": [
    "sentence = sentence.split()"
   ]
  },
  {
   "cell_type": "code",
   "execution_count": 47,
   "id": "427ecb73",
   "metadata": {},
   "outputs": [],
   "source": [
    "test.extend(sentence)"
   ]
  },
  {
   "cell_type": "markdown",
   "id": "8ac84d8f",
   "metadata": {},
   "source": [
    "### [ start : stop : skip ]"
   ]
  },
  {
   "cell_type": "code",
   "execution_count": 55,
   "id": "d3cf6ad1",
   "metadata": {},
   "outputs": [
    {
     "data": {
      "text/plain": [
       "['The',\n",
       " 'sky',\n",
       " 'is',\n",
       " 'very',\n",
       " 'blue',\n",
       " 'slicing',\n",
       " 'is',\n",
       " 'used',\n",
       " 'to',\n",
       " 'obtain',\n",
       " 'a',\n",
       " 'sequence',\n",
       " 'of',\n",
       " 'elements']"
      ]
     },
     "execution_count": 55,
     "metadata": {},
     "output_type": "execute_result"
    }
   ],
   "source": [
    "test"
   ]
  },
  {
   "cell_type": "code",
   "execution_count": 58,
   "id": "acb9a0ce",
   "metadata": {},
   "outputs": [
    {
     "data": {
      "text/plain": [
       "['The', 'sky', 'is', 'very', 'blue', 'slicing', 'is', 'used', 'to', 'obtain']"
      ]
     },
     "execution_count": 58,
     "metadata": {},
     "output_type": "execute_result"
    }
   ],
   "source": [
    "test[0 : 10]"
   ]
  },
  {
   "cell_type": "code",
   "execution_count": 59,
   "id": "b40a5f9d",
   "metadata": {},
   "outputs": [
    {
     "data": {
      "text/plain": [
       "['The', 'very', 'is', 'obtain']"
      ]
     },
     "execution_count": 59,
     "metadata": {},
     "output_type": "execute_result"
    }
   ],
   "source": [
    "test[0 : 10 : 3]"
   ]
  },
  {
   "cell_type": "markdown",
   "id": "efec2fc1",
   "metadata": {},
   "source": [
    "### Dictionaries\n",
    "Dictionary is a type of python data type in which collections are unordered and values are in pairs called key-value pairs"
   ]
  },
  {
   "cell_type": "code",
   "execution_count": 90,
   "id": "20147621",
   "metadata": {
    "scrolled": true
   },
   "outputs": [
    {
     "data": {
      "text/plain": [
       "{}"
      ]
     },
     "execution_count": 90,
     "metadata": {},
     "output_type": "execute_result"
    }
   ],
   "source": [
    "# Creating dictionaries\n",
    "\n",
    "dict()"
   ]
  },
  {
   "cell_type": "code",
   "execution_count": 97,
   "id": "966e82cf",
   "metadata": {},
   "outputs": [],
   "source": [
    "dictionary = {'key':'value'}"
   ]
  },
  {
   "cell_type": "code",
   "execution_count": 99,
   "id": "b89eec5f",
   "metadata": {
    "scrolled": false
   },
   "outputs": [
    {
     "data": {
      "text/plain": [
       "{'name': 'Damilola', 'age': 23, 'gender': 'Male'}"
      ]
     },
     "execution_count": 99,
     "metadata": {},
     "output_type": "execute_result"
    }
   ],
   "source": [
    "bio = {'name':'Damilola', 'age':23, 'gender':'Male'}\n",
    "\n",
    "\n",
    "bio"
   ]
  },
  {
   "cell_type": "code",
   "execution_count": 102,
   "id": "350008ef",
   "metadata": {},
   "outputs": [
    {
     "data": {
      "text/plain": [
       "('Damilola', 23, 'Male')"
      ]
     },
     "execution_count": 102,
     "metadata": {},
     "output_type": "execute_result"
    }
   ],
   "source": [
    "bio['name'] , bio['age'] , bio['gender']"
   ]
  },
  {
   "cell_type": "code",
   "execution_count": 104,
   "id": "f7e83023",
   "metadata": {},
   "outputs": [
    {
     "data": {
      "text/plain": [
       "dict_keys(['name', 'age', 'gender'])"
      ]
     },
     "execution_count": 104,
     "metadata": {},
     "output_type": "execute_result"
    }
   ],
   "source": [
    "bio.keys()"
   ]
  },
  {
   "cell_type": "code",
   "execution_count": 69,
   "id": "7731f486",
   "metadata": {},
   "outputs": [],
   "source": [
    "# Manipulating dictionaries"
   ]
  },
  {
   "cell_type": "code",
   "execution_count": 105,
   "id": "4bcf82be",
   "metadata": {},
   "outputs": [
    {
     "data": {
      "text/plain": [
       "dict_items([('name', 'Damilola'), ('age', 23), ('gender', 'Male')])"
      ]
     },
     "execution_count": 105,
     "metadata": {},
     "output_type": "execute_result"
    }
   ],
   "source": [
    "bio.items()"
   ]
  },
  {
   "cell_type": "code",
   "execution_count": 106,
   "id": "2688f27f",
   "metadata": {},
   "outputs": [
    {
     "data": {
      "text/plain": [
       "dict_values(['Damilola', 23, 'Male'])"
      ]
     },
     "execution_count": 106,
     "metadata": {},
     "output_type": "execute_result"
    }
   ],
   "source": [
    "bio.values()"
   ]
  },
  {
   "cell_type": "markdown",
   "id": "b44e615a",
   "metadata": {},
   "source": [
    "### Tuple\n",
    "A Tuple is a sequence of items that are in order, and it is not possible to modify the tuple.\n",
    "Tuples are immutable, i.e. it cannot be ultered. They generally faster than list in python. \n",
    "Tuples are used for storing specific kinds of data. E.g. (Datas that are not meant to change/cannot change); Date of Birth and so on."
   ]
  },
  {
   "cell_type": "code",
   "execution_count": 107,
   "id": "99110c6a",
   "metadata": {},
   "outputs": [
    {
     "data": {
      "text/plain": [
       "()"
      ]
     },
     "execution_count": 107,
     "metadata": {},
     "output_type": "execute_result"
    }
   ],
   "source": [
    "tuple()"
   ]
  },
  {
   "cell_type": "code",
   "execution_count": 108,
   "id": "dddd69fa",
   "metadata": {},
   "outputs": [],
   "source": [
    "test = ()"
   ]
  },
  {
   "cell_type": "code",
   "execution_count": 110,
   "id": "cd3e392f",
   "metadata": {},
   "outputs": [
    {
     "data": {
      "text/plain": [
       "tuple"
      ]
     },
     "execution_count": 110,
     "metadata": {},
     "output_type": "execute_result"
    }
   ],
   "source": [
    "type(test)"
   ]
  },
  {
   "cell_type": "markdown",
   "id": "ab709a99",
   "metadata": {},
   "source": [
    "### Set\n",
    "A Set is a collection of **Unique items that are not in order**"
   ]
  },
  {
   "cell_type": "code",
   "execution_count": 123,
   "id": "27903c18",
   "metadata": {},
   "outputs": [
    {
     "data": {
      "text/plain": [
       "set()"
      ]
     },
     "execution_count": 123,
     "metadata": {},
     "output_type": "execute_result"
    }
   ],
   "source": [
    "set()"
   ]
  },
  {
   "cell_type": "code",
   "execution_count": 116,
   "id": "31618dd1",
   "metadata": {},
   "outputs": [],
   "source": [
    "test = set"
   ]
  },
  {
   "cell_type": "code",
   "execution_count": 117,
   "id": "e058fa65",
   "metadata": {},
   "outputs": [
    {
     "data": {
      "text/plain": [
       "set"
      ]
     },
     "execution_count": 117,
     "metadata": {},
     "output_type": "execute_result"
    }
   ],
   "source": [
    "test"
   ]
  },
  {
   "cell_type": "code",
   "execution_count": 119,
   "id": "0ca3b62e",
   "metadata": {},
   "outputs": [],
   "source": [
    "fruits = ['mango', 'rice', 'mango', 'rice']"
   ]
  },
  {
   "cell_type": "code",
   "execution_count": 121,
   "id": "6d07661c",
   "metadata": {},
   "outputs": [
    {
     "data": {
      "text/plain": [
       "{'mango', 'rice'}"
      ]
     },
     "execution_count": 121,
     "metadata": {},
     "output_type": "execute_result"
    }
   ],
   "source": [
    "set(fruits)"
   ]
  },
  {
   "cell_type": "markdown",
   "id": "f997722f",
   "metadata": {},
   "source": [
    "### Booleans\n",
    "There can be only two types of value in the Boolean data type of Python and that is True or False"
   ]
  },
  {
   "cell_type": "code",
   "execution_count": 125,
   "id": "bb41378e",
   "metadata": {},
   "outputs": [
    {
     "data": {
      "text/plain": [
       "bool"
      ]
     },
     "execution_count": 125,
     "metadata": {},
     "output_type": "execute_result"
    }
   ],
   "source": [
    "type(True)"
   ]
  },
  {
   "cell_type": "code",
   "execution_count": 126,
   "id": "5d62b93d",
   "metadata": {},
   "outputs": [
    {
     "data": {
      "text/plain": [
       "bool"
      ]
     },
     "execution_count": 126,
     "metadata": {},
     "output_type": "execute_result"
    }
   ],
   "source": [
    "type(False)"
   ]
  },
  {
   "cell_type": "code",
   "execution_count": 127,
   "id": "5b45ade2",
   "metadata": {},
   "outputs": [],
   "source": [
    "yes = True"
   ]
  },
  {
   "cell_type": "code",
   "execution_count": 128,
   "id": "a84115c9",
   "metadata": {},
   "outputs": [
    {
     "data": {
      "text/plain": [
       "(1, 1)"
      ]
     },
     "execution_count": 128,
     "metadata": {},
     "output_type": "execute_result"
    }
   ],
   "source": [
    "yes.as_integer_ratio()"
   ]
  },
  {
   "cell_type": "code",
   "execution_count": null,
   "id": "e63babd0",
   "metadata": {},
   "outputs": [],
   "source": []
  }
 ],
 "metadata": {
  "kernelspec": {
   "display_name": "Python 3 (ipykernel)",
   "language": "python",
   "name": "python3"
  },
  "language_info": {
   "codemirror_mode": {
    "name": "ipython",
    "version": 3
   },
   "file_extension": ".py",
   "mimetype": "text/x-python",
   "name": "python",
   "nbconvert_exporter": "python",
   "pygments_lexer": "ipython3",
   "version": "3.9.12"
  }
 },
 "nbformat": 4,
 "nbformat_minor": 5
}
